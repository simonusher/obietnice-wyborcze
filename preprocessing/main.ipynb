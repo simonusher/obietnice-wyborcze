{
 "cells": [
  {
   "cell_type": "code",
   "execution_count": 1,
   "metadata": {},
   "outputs": [],
   "source": [
    "import PyPDF2\n",
    "\n",
    "# Open the PDF file\n",
    "with open(\"100 konkretow-pdf.pdf\", \"rb\") as file:\n",
    "    # Initialize PDF reader\n",
    "    pdf_reader = PyPDF2.PdfReader(file)\n",
    "\n",
    "    first_content_page = 0\n",
    "    last_content_page = 32\n",
    "\n",
    "    pages = []\n",
    "    for page_num in range(first_content_page, last_content_page):\n",
    "        text = pdf_reader.pages[page_num].extract_text()\n",
    "        pages.append(text)\n",
    "\n"
   ]
  },
  {
   "cell_type": "code",
   "execution_count": 2,
   "metadata": {},
   "outputs": [],
   "source": [
    "import re"
   ]
  },
  {
   "cell_type": "code",
   "execution_count": 3,
   "metadata": {},
   "outputs": [
    {
     "name": "stdout",
     "output_type": "stream",
     "text": [
      "2\n",
      "www.100konkretow.plSpis treści:\n",
      "Rodzina         3\n",
      "M ł o d z i         4\n",
      "Seniorzy         5\n",
      "Kobiety         6\n",
      "Przedsiębiorcy       7\n",
      "Zdrowie         9\n",
      "Edukacja         10\n",
      "Polityka społeczna      12\n",
      "P o d a t k i         1 4\n",
      "Mieszkania        15\n",
      "Energetyka        16\n",
      "Unia Europejska       17\n",
      "Środowisko        18\n",
      "Świeckie Państwo      20\n",
      "Rolnictwo         21\n",
      "Rozliczenie rządów PiS     23\n",
      "Praworządność       27\n",
      "Bezpieczeństwo       28\n",
      "Obrona narodowa      29\n",
      "Organizacje pozarządowe    31\n",
      "Kultura         32\n"
     ]
    }
   ],
   "source": [
    "print(pages[1])"
   ]
  },
  {
   "cell_type": "code",
   "execution_count": 4,
   "metadata": {},
   "outputs": [
    {
     "data": {
      "text/plain": [
       "'P o d a t k i         1 4'"
      ]
     },
     "execution_count": 4,
     "metadata": {},
     "output_type": "execute_result"
    }
   ],
   "source": [
    "categories_lines = \"\\n\".join(pages[1].split(\"\\n\")[2:])\n",
    "categories = categories_lines.split(\"\\n\")\n",
    "categories[8]"
   ]
  },
  {
   "cell_type": "code",
   "execution_count": 10,
   "metadata": {},
   "outputs": [
    {
     "data": {
      "text/plain": [
       "[('Rodzina', 3, 4),\n",
       " ('Młodzi', 4, 5),\n",
       " ('Seniorzy', 5, 6),\n",
       " ('Kobiety', 6, 7),\n",
       " ('Przedsiębiorcy', 7, 9),\n",
       " ('Zdrowie', 9, 10),\n",
       " ('Edukacja', 10, 12),\n",
       " ('Polityka społeczna', 12, 14),\n",
       " ('Podatki', 14, 15),\n",
       " ('Mieszkania', 15, 16),\n",
       " ('Energetyka', 16, 17),\n",
       " ('Unia Europejska', 17, 18),\n",
       " ('Środowisko', 18, 20),\n",
       " ('Świeckie Państwo', 20, 21),\n",
       " ('Rolnictwo', 21, 23),\n",
       " ('Rozliczenie rządów PiS', 23, 27),\n",
       " ('Praworządność', 27, 28),\n",
       " ('Bezpieczeństwo', 28, 29),\n",
       " ('Obrona narodowa', 29, 31),\n",
       " ('Organizacje pozarządowe', 31, 32),\n",
       " ('Kultura', 32, 33)]"
      ]
     },
     "execution_count": 10,
     "metadata": {},
     "output_type": "execute_result"
    }
   ],
   "source": [
    "import regex\n",
    "categories_lines = \"\\n\".join(pages[1].split(\"\\n\")[2:])\n",
    "categories = categories_lines.split(\"\\n\")\n",
    "\n",
    "def extract_category(s):\n",
    "    match = regex.search(r\"([\\p{L}\\s]*)\\s+(\\d\\s?\\d*$)\", s)\n",
    "    category, start_page = match.group(1).strip(), int(match.group(2).replace(\" \", \"\").strip())\n",
    "    if str.count(category, \" \") > 2:\n",
    "        category = category.replace(\" \", \"\")\n",
    "    return category, start_page \n",
    "\n",
    "categories = [extract_category(s) for s in categories]\n",
    "categories =[\n",
    "    (*categories[i], last_content_page + 1 if i == len(categories) - 1 else categories[i + 1][1])\n",
    "    for i in range(len(categories))\n",
    "]\n",
    "categories"
   ]
  },
  {
   "cell_type": "code",
   "execution_count": 11,
   "metadata": {},
   "outputs": [
    {
     "name": "stdout",
     "output_type": "stream",
     "text": [
      "Rodzina\n",
      "Młodzi\n",
      "Seniorzy\n",
      "Kobiety\n",
      "Przedsiębiorcy\n",
      "Zdrowie\n",
      "Edukacja\n",
      "Polityka społeczna\n",
      "Podatki\n",
      "Mieszkania\n",
      "Energetyka\n",
      "Unia Europejska\n",
      "Środowisko\n",
      "Świeckie Państwo\n",
      "Rolnictwo\n",
      "Rozliczenie rządów PiS\n",
      "Praworządność\n",
      "Bezpieczeństwo\n",
      "Obrona narodowa\n",
      "Organizacje pozarządowe\n",
      "Kultura\n"
     ]
    },
    {
     "data": {
      "text/plain": [
       "{'Rodzina': ['Na stałe wprowadzimy finansowanie in vitro z budżetu państwa. Na finansowanie procedury in vitro przeznaczymy nie mniej niż 500 mln zł. – tak by pary, które chcą mieć dzieci miały dostęp do najnowocześniejszych metod.',\n",
       "  'Wspieramy kobiety wracające na rynek pracy po urodzeniu dziecka: w ramach programu „Aktywna mama” wypłacimy 1500 zł miesięcznie na opiekę nad dzieckiem – tzw. „babciowe”.',\n",
       "  'Natychmiast przystąpimy do realizacji polityki antyprzemocowej.',\n",
       "  'Wprowadzimy obligacje antyinflacyjne poprzez zmianę w ustawie o NBP (gotowy projekt ustawy). Oszczędności Polaków będą zabezpieczone przed inflacją od pierwszego dnia.',\n",
       "  'Wprowadzimy ustawę o związkach partnerskich.'],\n",
       " 'Młodzi': ['Wprowadzimy 600 zł dopłaty na wynajem mieszkania dla młodych.',\n",
       "  'Wprowadzimy kredyt z oprocentowaniem 0% na zakup pierwszego mieszkania.',\n",
       "  'Przywrócimy finansowanie Telefonu Zaufania dla Dzieci i Młodzieży 116 111.',\n",
       "  'Odwołamy Mikołaja Pawlaka z funkcji Rzecznika Praw Dziecka i powołamy na to stanowisko osobę, dla której dobro dzieci będzie priorytetem.'],\n",
       " 'Seniorzy': ['Wprowadzimy drugą waloryzację emerytur i rent, gdy inflacja będzie przekraczała 5%.',\n",
       "  'Emerytura do 5000zł brutto – bez podatku.',\n",
       "  'Dzięki odblokowanym środkom unijnym zwiększymy dostępność lekarzy geriatrów oraz opieki długoterminowej.',\n",
       "  'Zniesiemy limity NFZ w lecznictwie szpitalnym, dzięki czemu znacząco skróci się czas oczekiwania na konsultacje i zabiegi.',\n",
       "  '„Zamrozimy” ceny gazu w 2024 r. dla gospodarstw domowych i odbiorców wrażliwych na poziomie cen z 2023 r.'],\n",
       " 'Kobiety': ['Aborcja do 12 tygodnia ciąży będzie legalna, bezpieczna i dostępna. Żaden szpital działający w ramach NFZ nie będzie mógł zasłonić się klauzulą sumienia i odmówić zabiegu. Decyzja musi należeć do kobiety.',\n",
       "  'Zapewnimy prawo do bezpłatnego znieczulenia przy porodzie.',\n",
       "  'Zapewnimy pełny dostęp do darmowych badań prenatalnych.',\n",
       "  'Zapewnimy dostęp do „antykoncepcji awaryjnej” bez recepty.',\n",
       "  'Wspieramy kobiety wracające na rynek pracy po urodzeniu dziecka: w ramach programu „Aktywna mama” wypłacimy 1500 zł miesięcznie na opiekę nad dzieckiem – tzw. „babciowe”.',\n",
       "  'Na stałe wprowadzimy finansowanie in vitro z budżetu państwa. Na finansowanie procedury in vitro przeznaczymy nie mniej niż 500 mln zł. – tak by pary, które chcą mieć dzieci miały dostęp do najnowocześniejszych metod.'],\n",
       " 'Przedsiębiorcy': ['Przedsiębiorcy zapłacą podatek dochodowy dopiero po otrzymaniu środków z tytułu zapłaconej faktury (kasowy PIT).',\n",
       "  'Powołamy Ministerstwo Przemysłu z siedzibą na Śląsku.',\n",
       "  'Zniesiemy zakaz handlu w niedziele, ale każdy pracownik będzie miał zapewnione dwa wolne weekendy w miesiącu i podwójne wynagrodzenie za pracę w dni wolne.',\n",
       "  'Wrócimy do ryczałtowego systemu rozliczania składki zdrowotnej. Skończymy z absurdem składki zdrowotnej od sprzedaży środków trwałych.',\n",
       "  'Wprowadzimy „Urlop dla przedsiębiorców”: jeden miesiąc wolny od składek na ubezpieczenia społeczne i świadczenie urlopowe w wysokości połowy płacy minimalnej.',\n",
       "  'Ograniczymy czas kontroli mikro przedsiębiorców do 6 dni w skali roku. Urzędy Skarbowe nie będą w nieskończoność przedłużać kontroli.',\n",
       "  'Obniżymy VAT dla sektora „beauty” do 8%.Pomożemy mikro przedsiębiorcom obniżyć koszty działalności: zasiłek chorobowy od pierwszego dnia nieobecności pracownika będzie płacił ZUS.'],\n",
       " 'Zdrowie': ['Wprowadzimy łatwy w obsłudze i czytelny system rezerwacji wizyt (sms-y, maile) na kształt funkcjonującego w systemie prywatnym. W ten sposób ograniczymy liczbę nieodbytych wizyt, a tym samym skrócimy kolejki.',\n",
       "  'Wprowadzimy bon na profilaktykę i leczenie stomatologiczne dla dzieci i młodzieży do wykorzystania w każdym gabinecie stomatologicznym. Przywrócimy opiekę dentystyczną w szkołach podstawowych.',\n",
       "  'Na obszarach pozbawionych odpowiedniej diagnostyki stworzymy Powiatowe Centra Zdrowia zapewniające powszechny i równy dostęp do diagnostyki, leczenia ambulatoryjnego i świadczeń specjalistycznych.',\n",
       "  'Zniesiemy limity NFZ w lecznictwie szpitalnym, dzięki czemu znacząco skróci się czas oczekiwania na konsultacje i zabiegi.',\n",
       "  'Dzięki odblokowanym środkom unijnym zwiększymy dostępność lekarzy geriatrów oraz opieki długoterminowej.'],\n",
       " 'Edukacja': ['Podniesiemy wynagrodzenia nauczycieli o co najmniej 30%. Nie mniej niż 1500 zł brutto podwyżki dla nauczyciela. Wprowadzimy stały system automatycznej rewaloryzacji. Przywrócimy autonomię i prestiż zawodu nauczyciela – mniej biurokracji, większa niezależność w doborze lektur, rozszerzaniu tematów.',\n",
       "  'Odpolitycznimy szkoły. Natychmiast wycofamy przedmiot HiT. Wprowadzimy praktyczne, a nie ideologiczne podstawy programowe i podręczniki, tworzone i zatwierdzane przez ekspertów i nauczycieli praktyków w Komisji Edukacji Narodowej, a nie przez polityków.',\n",
       "  'Uwolnimy nasze dzieci od ciężkich plecaków – w każdej szkole postawimy indywidualne szafki dla dzieci, a każdy podręcznik będzie miał wersje elektroniczną.',\n",
       "  'W ciągu pierwszych 100 dni rozpoczniemy proces przechodzenia polskiej edukacji na system 1 zmianowy. Od 1 września 2025 wszystkie polskie szkoły podstawowe będą działały w takim systemie.',\n",
       "  'Zlikwidujemy prace domowe w szkołach podstawowych. Wprowadzimy szeroką ofertę bezpłatnych zajęć pozalekcyjnych w szkole. Przeznaczymy dodatkowe pieniądze na zajęcia rozwijające zdolności uczniów i wyrównujące szanse, sport, rozwijanie zainteresowań. Zapewnimy pomoc w szkole zamiast korepetycji w domu.',\n",
       "  'Wzmocnimy autonomię uczelni i zabezpieczymy apolityczność szkół wyższych poprzez zwiększenie finansowania nauki i poprawę transparentności wydatkowanych środków.',\n",
       "  'Uzdrowimy mechanizmy ewaluacji nauki. Zweryfikujemy wykaz czasopism punktowanych przy poszanowaniu ustawowej roli Komisji Ewaluacji Nauki.'],\n",
       " 'Polityka społeczna': ['Podniesiemy zasiłek pogrzebowy do 150% płacy minimalnej – czyli od lipca 2024 będzie to 6450 zł. Obecnie to 4000zł.',\n",
       "  'Podniesiemy kwotę świadczenia z Funduszu Alimentacyjnego z 500 zł do 1000 zł.',\n",
       "  'Zlikwidujemy tzw. „pułapkę rentową”: osoby z niepełnosprawnością będą mogły pracować nie tracąc renty.',\n",
       "  'Odciążymy pracujących opiekunów osób niesamodzielnych. Wprowadzimy Bon Opiekuńczy w wysokości 50% minimalnego wynagrodzenia dla aktywnych zawodowo opiekunów.',\n",
       "  'Stworzymy system usług asystenckich dla osób niesamodzielnych, w ramach którego profesjonalni, certyfikowani opiekunowie będą wspierali osoby niesamodzielne. W ciągu pierwszych 100 dni złożymy projekt ustawy i rozpoczniemy szkolenia i certyfikacje.',\n",
       "  'Złożymy gotowy projekt ustawy o podwyższeniu renty socjalnej do wysokości minimalnego wynagrodzenia.',\n",
       "  'Wprowadzimy ustawę o związkach partnerskich.'],\n",
       " 'Podatki': ['Obniżymy podatki. Osoby zarabiające do 6000 zł brutto (także na działalności gospodarczej) i pobierające emeryturę do 5000 zł brutto nie będą płaciły podatku dochodowego. Podniesiemy kwotę wolną od podatku – z 30 tys. zł do 60 tys. zł., w przypadku podatników rozliczających się według skali podatkowej, w tym także przedsiębiorców i emerytów.',\n",
       "  'Zaproponujemy zniesienie podatku od zysków kapitałowych (podatek Belki) dla oszczędności i inwestycji w tym także na GPW (do 100 tys. zł, powyżej 1 roku).',\n",
       "  'Obniżymy VAT dla sektora „beauty” do 8%.',\n",
       "  'Wprowadzimy 0% VAT na transport publiczny, aby obniżyć ceny biletów dla Polaków.'],\n",
       " 'Mieszkania': ['Wprowadzimy kredyt z oprocentowaniem 0% na zakup pierwszego mieszkania.',\n",
       "  'Wprowadzimy 600 zł dopłaty na wynajem mieszkania dla młodych.',\n",
       "  'Aby mieszkań w Polsce powstawało więcej uwolnimy grunty spółek skarbu państwa i Krajowego Zasobu Nieruchomości, a zwłaszcza te które trafiły do KZN na potrzeby programu Mieszkanie Plus. Programu PiS, który okazał się katastrofą.',\n",
       "  'Przeznaczymy 10 mld złotych na rewitalizację i remonty pustostanów w zasobach polskich samorządów oraz przeznaczymy 3 mld złotych rocznie na dofinansowanie nowych projektów w modelu TBS oraz remont i powiększenie miejskich zasobów mieszkaniowych.'],\n",
       " 'Energetyka': ['Przywrócimy korzystne zasady rozliczania produkowanej energii dla prosumentów – niższe rachunki za prąd dla inwestujących w fotowoltaikę.',\n",
       "  'Umożliwimy stworzenie 700 lokalnych wspólnot energetycznych generujących własny, tańszy prąd.',\n",
       "  'Złożymy projekt ustawy odblokowującej możliwość rozwoju energetyki wiatrowej na lądzie (zmniejszenie odległości do 500 m) z jasnymi i szybkimi regułami wydawania decyzji o budowie i przyłączeniu. Lokalne społeczności otrzymają 5% przychodów ze sprzedaży energii.',\n",
       "  '„Zamrozimy” ceny gazu w 2024 r. dla gospodarstw domowych i odbiorców wrażliwych na poziomie cen z 2023 r.',\n",
       "  'Przedstawimy szczegółowy plan transformacji energetycznej, która umożliwi ograniczenie emisji CO2 o 75% do 2030 roku. Przyspieszymy rozwój niskoemisyjnych źródeł energii (OZE i energetyki jądrowej). Opracujemy założenia dla spójnego programu rozwoju energetyki jądrowej oraz precyzyjnie określimy sposób jego finansowania.'],\n",
       " 'Unia Europejska': ['Uzyskamy pieniądze z funduszy unijnych.',\n",
       "  'Wrócimy do grupy decyzyjnej w instytucjach UE.',\n",
       "  'Zapewnimy finansowanie z UE na obronę polskiej granicy z Białorusią. Zlikwidujemy szlak przemytników przechodzących z Bliskiego Wschodu przez Białoruś do Polski i dalej UE.',\n",
       "  'Uwolnimy sądy od politycznych wpływów. Wykonamy orzeczenia Trybunału Sprawiedliwości Unii Europejskiej i Europejskiego Trybunału Praw Człowieka w zakresie gwarancji niezależności sądów i niezawisłości sędziów.',\n",
       "  'Dzięki odblokowanym środkom unijnym zwiększymy dostępność lekarzy geriatrów oraz opieki długoterminowej.'],\n",
       " 'Środowisko': ['Wyłączymy najcenniejsze przyrodniczo obszary lasów z wycinki i przeznaczymy je tylko na funkcje przyrodnicze i społeczne.',\n",
       "  'Zatrzymamy niekontrolowany wywóz nieprzetworzonego drewna z Polski. Surowiec z polskich lasów powinien służyć przede wszystkim polskim przetwórcom.',\n",
       "  'Zapewnimy społeczny nadzór nad lasami i możliwość zaskarżania planów urządzenia lasu do sądu.',\n",
       "  'Rozliczymy partyjnych namiestników PiS za prowadzoną przez ostatnie 8 lat rabunkową gospodarkę leśną.',\n",
       "  'Obejmiemy rzeki stałym monitoringiem w automatycznych stacjach pomiaru czystości. Zmodernizujemy systemy oczyszczania i przetwarzania ścieków i uruchomimy narzędzia pozwalające na skuteczne zwalczanie nielegalnych zrzutów ścieków. Wdrożymy program rewitalizacji rzeki „Czysta Odra”.',\n",
       "  'Skończymy z nielegalnym importem śmieci do Polski. Za rządów PiS Polska stała się śmietniskiem Europy. Będziemy stanowczo egzekwować prawo, dając stosownym organom większe uprawnienia.',\n",
       "  'Stworzymy program odtwarzania torfowisk i mokradeł, który będzie w pełni uwzględniał interesy polskich rolników, by chronić środowisko. Szacuje się, że odwodnione przez człowieka torfowiska emitują w Polsce więcej gazów cieplarnianych niż elektrownia w Bełchatowie.',\n",
       "  'Skończymy z wycinką drzew w miastach i zapewnimy ochronę bioróżnorodności na terenach miejskich. Wprowadzimy instytucje „miejskiego ogrodnika”, odpowiedzialnego za parki, nowe nasadzenia i użytki ekologiczne.'],\n",
       " 'Świeckie Państwo': ['Zlikwidujemy Fundusz Kościelny.',\n",
       "  'Ocena z religii zostanie wykreślona ze świadectw szkolnych.',\n",
       "  'Religia w szkołach tylko na pierwszej lub ostatniej lekcji.',\n",
       "  'Wprowadzimy zakaz finansowania z pieniędzy publicznych działalności gospodarczej diecezji, parafii, zakonów i innych elementów gospodarczych Kościołów i związków wyznaniowych, z wyłączeniem działalności służącej celom humanitarnym, charytatywno-opiekuńczym, naukowym i oświatowo-wychowawczym. Tacy biznesmeni jak Tadeusz Rydzyk powinni sobie radzić bez pieniędzy pochodzących z podatków obywateli.'],\n",
       " 'Rolnictwo': ['Co najmniej połowa strategicznych produktów żywnościowych w sklepach musi pochodzić z Polski. Wprowadzimy obowiązek oznaczania flagą kraju pochodzenia wszystkich świeżych produktów w sklepach.',\n",
       "  'Uruchomimy program budowy nowoczesnych targowisk w każdym mieście.',\n",
       "  'Przedstawimy projekt zwiększenia przestrzeni magazynowej i budowy nowego terminala (portu zbożowego) w Gdańsku.',\n",
       "  'Odbudujemy polską tradycję hodowli świń – budżet pokryje całość kosztów bioasekuracji.',\n",
       "  'Wprowadzimy dla rolników fundusz stabilizacyjny, pokrywający straty spowodowane oszustwami pośredników i szkodami łowieckimi.',\n",
       "  'Obniżymy koszty prowadzenia gospodarstw: zapewniając wsparcie dla inwestycji w biogazownie, farmy fotowoltaiczne oraz pompy ciepła.',\n",
       "  'Zapewnimy czystą i tanią wodę do produkcji rolnej – postawimy na budowę lokalnych systemów zatrzymujących wodę w glebie. Rolnik ma prawo skorzystać z wody, która spadnie na jego grunt.'],\n",
       " 'Rozliczenie rządów PiS': ['Osoby, które muszą zostaćpociągnięte do odpowiedzialności:Łamanie Konstytucji i praworządności będzie szybko rozliczone i osądzone. W tym celu postawimy przed Trybunałem Stanu:\\n• Andrzeja Dudę – za odmowę przyjęcia ślubowania od trzech prawidłowo wybranych przez Sejm VII kadencji sędziów Trybunału Konstytucyjnego oraz za zastosowanie prawa łaski w stosunku do nieprawomocnie skazanych Mariusza Kamińskiego, Macieja Wąsika i dwóch innych funkcjonariuszy,\\n• Mateusza Morawieckiego – za wydanie decyzji polecającej Poczcie Polskiej przeprowadzenie nielegalnych wyborów kopertowych,\\n• Jacka Sasina – za bezprawne wydanie 70 mln zł na wybory kopertowe,\\n• Zbigniewa Ziobro – za wykorzystywanie do celów partyjnych środków finansowych z Funduszu Sprawiedliwości,\\n• Adama Glapińskiego – za zniszczenie niezależności Narodowego Banku Polskiego i brak realizacji podstawowego zadania NBP, jakim jest walka z drożyzną,\\n• Przewodniczącego KRRiT Macieja Świrskiego i ministra kultury i dziedzictwa narodowego Piotra Glińskiego, obu za zniszczenie mediów publicznych (w tym m.in. za naruszenie art. 213. ust. 1 Konstytucji, a także art. 6 ust. 1, art. 6 ust. 2, art. 21 ust. 1, art. 21 ust. 2 ustawy o radiofonii i telewizji, oraz art. 231 Kodeksu karnego).',\n",
       "  'Złożymy wnioski do niezależnej, odpolitycznionej prokuratury o pociągnięcie do odpowiedzialności karnej następujących osób:\\n• Jarosława Kaczyńskiego – za sprawstwo kierownicze i usiłowanie zmiany ustroju państwa,\\n• Łukasza Szumowskiego – za miliony wydane na niesprawne respiratory,\\n• Janusza Cieszyńskiego – za współudział w aferze respiratorowej,\\n• Antoniego Macierewicza – za ukrywanie wyników badań, które zaprzeczały tezie o wybuchu w Smoleńsku, za zniszczenie polskiego kontrwywiadu i działania na rzecz Rosji,\\n• Odpowiedzialnych za bezprawny zakup i inwigilowanie obywateli Pegasusem,\\n• Hejterów, którzy wykorzystywali informacje pozyskane z ministerstwa sprawiedliwości do szkalowania niezależnych sędziów,\\n• Odpowiedzialnych za zmarnowanie miliardów złotych na budowę elektrowni w Ostrołęce,\\n• Prokuratorów usiłujących uchylić immunitet i wszczynających bezpodstawne postępowania karne przeciwko niezawisłym sędziom za wydawane przez nich orzeczenia,\\n• Policjantów, którzy pobili kobiety protestujące przeciwko barbarzyńskiemu orzeczeniu Trybunału Przyłębskiej w sprawie aborcji,\\n• Komendanta Jarosława Szymczyka za użycie granatnika w Komendzie Głównej Policji,\\n• Piotra Wawrzyka i jego współpracowników z MSZ za aferę wizową (w tym m.in. za możliwe naruszenie art. 231 i art. 296 § 2 Kodeksu karnego),\\n• Jacka Kurskiego za niszczenie mediów publicznych (w tym m.in. za możliwe naruszenie art. 43, art. 44 ust. 1 i 2 ustawy – Prawo prasowe, art. 231 Kodeksu karnego),\\n• Adama Niedzielskiego – za wykorzystywanie do celów politycznych danych wrażliwych znajdujących się w rejestrach medycznych prowadzonych w resorcie zdrowia.',\n",
       "  'Rozliczymy wszystkie afery Daniela Obajtka, w tym sprzedaż udziałów w Rafinerii Gdańskiej.',\n",
       "  'Odzyskamy publiczne środki od przestępców, którzy dopuścili się kradzieży lub marnotrawstwa pieniędzy podatników. Kontrola obejmie każdy resort, szczebel, instytucję. Ujawnimy nieprawidłowości i wskażemy odpowiedzialnych za korupcję, niedopełnienie obowiązków i przekroczenie uprawnień.',\n",
       "  'Przedstawimy akt oskarżenia wobec funkcjonariuszy MSZ odpowiedzialnych za korupcję, która doprowadziła do niekontrolowanego napływu migrantów do Polski.',\n",
       "  'W spółkach z udziałem Skarbu Państwa zwolnimy wszystkich członków rad nadzorczych i zarządów. Przeprowadzimy nowy nabór w transparentnych konkursach, w których decydować będą kompetencje a nie znajomości rodzinne i partyjne.',\n",
       "  'Odpolitycznimy i uspołecznimy media publiczne. Zlikwidujemy Radę Mediów Narodowych. Natychmiast zatrzymamy finasowanie fabryki kłamstw i nienawiści jaką stała się TVP i inne media publiczne. Zgodnie z naszym zobowiązaniem przeznaczymy 2 mld zł z TVP na leczenie raka.',\n",
       "  'Zlikwidujemy Narodowy Instytut Wolności, Fundusz Patriotyczny, Instytut De Republica i 14 innych powołanych przez PiS agencji i instytutów, które są przechowalnią pisowskich aparatczyków. Zlikwidujemy 42 stanowiska rządowych pełnomocników, zmniejszymy liczbę ministrów i wiceministrów.',\n",
       "  'Zweryfikujemy projekt Centralnego Portu Komunikacyjnego. Zatrzymamy bandyckie wywłaszczenia i naprawimy krzywdy już wywłaszczonym. Zablokujemy sprzedaż lotniska Okęcie.Przywrócimy przejrzystość finansów publicznych. Przedstawimy białą księgę stanu finansów publicznych na koniec 2023 r. Winnych przestępstw urzędniczych pociągniemy do odpowiedzialności. W ciągu 100 dni ujawnimy plany finansowe i wszystkie wydatki funduszy poza budżetem.'],\n",
       " 'Praworządność': ['Uwolnimy sądy od politycznych wpływów. Wykonamy orzeczenia Trybunału Sprawiedliwości Unii Europejskiej i Europejskiego Trybunału Praw Człowieka w zakresie gwarancji niezależności sądów i niezawisłości sędziów.',\n",
       "  'Zlikwidujemy neoKRS i utworzymy Krajową Radę Sądownictwa w składzie zgodnym z Konstytucją. Nielegalni sędziowie dublerzy zostaną odsunięci od orzekania. Osądzimy tych, którzy sprzeniewierzyli się sędziowskiemu ślubowaniu.',\n",
       "  'Rozdzielimy funkcję ministra sprawiedliwości i prokuratora generalnego. Prokurator nie może być politykiem. Przygotujemy Polskę do przystąpienia do Prokuratury Europejskiej, aby skuteczniej ścigać nadużycia finansowe, korupcję, pranie pieniędzy oraz transgraniczne oszustwa VAT- owskie.'],\n",
       " 'Bezpieczeństwo': ['Rozliczymy Komendanta Głównego Policji za działania łamiące porządek prawny na przykład wykorzystanie Biura Operacji Antyterrorystycznych do tłumienia zgromadzeń w tym strajków kobiet oraz innych działań, na polityczne zlecenie, wymierzonych w opozycję.',\n",
       "  'Rozliczymy kierownictwa jednostek policji, w których dochodziło do nagminnego nadużywania władzy i realizowania politycznych zleceń: kierowania sił i środków policyjnych do partyjnych siedzib i prywatnych domów polityków, „śledzenia” przez patrole umundurowane i operacyjne działaczy i polityków opozycji.',\n",
       "  'Zapewnimy finansowanie z UE na obronę polskiej granicy z Białorusią. Zlikwidujemy szlak przemytników przechodzących z Bliskiego Wschodu przez Białoruś do Polski i dalej UE.'],\n",
       " 'Obrona narodowa': ['Wszyscy żołnierze niesłusznie zwolnieni po 2015 r. otrzymają możliwość powrotu do służby.',\n",
       "  'Przeprowadzimy kontrolę procedur dotyczących awansów i zakupów w polskim wojsku od 2015 roku. Stworzymy białą księgę dokumentującą wszystkie decyzje pociągające znaczne skutki finansowe, szczególnie poza procedurami przetargowymi i rozliczymy nieprawidłowości.',\n",
       "  'W ciągu 100 dni przedstawimy program modernizacji polskiej armii. Pozyskamy kolejnych 6 baterii Patriot, znaczącą liczbę śmigłowców wielozadaniowych i bojowych, dronów najnowszej generacji i innych elementów obrony powietrznej.',\n",
       "  'Wydamy rozporządzenie o ochronie polskiego munduru. Wojsko ma służyć Polsce a nie politykom. Wprowadzimy zakaz wykorzystywania wojska w celach partyjnych i wyborczych.',\n",
       "  'Przeprowadzimy audyt i kontrolę działań operacyjnych w zakresie wykorzystania podsłuchów oraz działań Biura Spraw Wewnętrznych i Biura Nadzoru Wewnętrznego MSW. Zlikwidujemy „policję ministra Kamińskiego” w postaci Biura Nadzoru Wewnętrznego w MSW.',\n",
       "  'Przywrócimy emerytom mundurowym prawa nabyte – uprawnienia emerytalne odebrane im z naruszeniem powszechnych norm prawa.Pilnie przystąpimy do sojuszniczego programu obrony przeciwrakietowej tzw. Kopuły Europejskiej (European Sky Shield – europejska tarcza antyrakietowa). W interesie bezpieczeństwa Polski jest wykorzystanie wszystkich możliwych narzędzi do ochrony polskiego i europejskiego nieba.'],\n",
       " 'Organizacje pozarządowe': ['Skończymy z przekazywaniem środków organizacjom nacjonalistycznym. Wzmocnimy system ekspercki, a politycy nie będą już rozdawać dotacji wg własnych preferencji.',\n",
       "  'Ułatwimy organizacjom pozarządowym pozyskiwanie środków prywatnych tworząc system zachęt podatkowych dla darczyńców i możliwość podpisywania umów sponsorskich bez prowadzenia działalności gospodarczej.'],\n",
       " 'Kultura': ['Wprowadzimy ustawę o statusie artysty gwarantującą artystom i artystkom minimum zabezpieczenia socjalnego, dostęp do ubezpieczeń społecznych i zdrowotnych uwzględniający specyfikę pracy. Pandemia obnażyła wady obecnego systemu, w którym praca twórcza nie ma odpowiedniego zabezpieczenia. Wsparcie dla systemu zapewnią środki, trafiające wcześniej m.in. na Fundusz Kościelny.',\n",
       "  'Zniesiemy cenzurę nałożoną na polską kulturę:\\n• cenzurę ekonomiczną, czyli cofanie środków finansowych dla instytucji kultury niewygodnych dla władzy\\n• cenzurę personalną, czyli obsadzanie instytucji kultury osobami podległymi władzyJęzyk śląski zostanie uznany za język regionalny. Ponownie złożymy ustawę, która nada językowi śląskiemu status języka regionalnego, a tym samym odpowie na oczekiwania Ślązaków.']}"
      ]
     },
     "execution_count": 11,
     "metadata": {},
     "output_type": "execute_result"
    }
   ],
   "source": [
    "results = {}\n",
    "for category, start_page, end_page in categories:\n",
    "    print(category)\n",
    "    category_pages = pages[start_page - 1:end_page - 1]\n",
    "    pattern = r'.*Nasze postulaty:\\n(.+)$'\n",
    "    all_statements = \"\\n\".join(category_pages)\n",
    "    match = re.search(pattern, all_statements, re.DOTALL)\n",
    "    if match:\n",
    "        text = match.group(1)\n",
    "    else:\n",
    "        text = all_statements\n",
    "    category_statements = text.replace(u'\\xa0', \" \").split(\"\\n\")\n",
    "\n",
    "            \n",
    "    statement = \"\"\n",
    "    category_merged = []\n",
    "    for line in category_statements:\n",
    "        statement += line\n",
    "        if statement.endswith(\".\"):\n",
    "            replacements = [\"dalsza część na kolejnej stronie\", \"(\\d+)?(www.100konkretow.pl)(\\d+)?\", \"Rozliczymyrządy PiS\"]\n",
    "            statement = re.sub(r\"\\s+\", \" \", statement)\n",
    "            for replacement in replacements:\n",
    "                statement = re.sub(replacement, \"\", statement)\n",
    "            \n",
    "            statement = regex.sub(r\"\\.\" + category, \".\\n\", statement)\n",
    "            statement = regex.sub(category.strip() + r\"( c\\.d\\.)\", \"\", statement)\n",
    "            statement = regex.sub(r\" c\\.d\\.\", \"\", statement)\n",
    "            statements = [s.strip().replace(\"•\", \"\\n•\") for s in statement.split(\"\\n\")]\n",
    "            \n",
    "            category_merged.extend(statements)\n",
    "\n",
    "\n",
    "            statement = \"\"\n",
    "    category_merged = list(filter(\n",
    "        lambda s: len(s) > 0,\n",
    "        category_merged\n",
    "    ))\n",
    "    results[category] = category_merged\n",
    "results"
   ]
  },
  {
   "cell_type": "code",
   "execution_count": 12,
   "metadata": {},
   "outputs": [],
   "source": [
    "import json\n",
    "with open(\"results.json\", \"w\", encoding=\"utf-8\") as file:\n",
    "    json.dump(results, file, ensure_ascii=False, indent=4)"
   ]
  },
  {
   "cell_type": "code",
   "execution_count": 3,
   "metadata": {},
   "outputs": [],
   "source": [
    "import json\n",
    "with open(\"results.json\", \"rt\", encoding=\"utf-8\") as file:\n",
    "    results = json.load(file)\n",
    "    results = {\n",
    "        category: [{\"promise\": statement, \"fulfilled\": False} for statement in statements]\n",
    "        for category, statements in results.items()\n",
    "    }\n",
    "    with open(\"results_fulfilled.json\", \"wt\", encoding=\"utf-8\") as file:\n",
    "        json.dump(results, file, ensure_ascii=False, indent=4)"
   ]
  }
 ],
 "metadata": {
  "kernelspec": {
   "display_name": "env",
   "language": "python",
   "name": "python3"
  },
  "language_info": {
   "codemirror_mode": {
    "name": "ipython",
    "version": 3
   },
   "file_extension": ".py",
   "mimetype": "text/x-python",
   "name": "python",
   "nbconvert_exporter": "python",
   "pygments_lexer": "ipython3",
   "version": "3.10.6"
  }
 },
 "nbformat": 4,
 "nbformat_minor": 2
}
